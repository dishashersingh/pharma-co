{
 "cells": [
  {
   "cell_type": "code",
   "execution_count": null,
   "metadata": {
    "vscode": {
     "languageId": "plaintext"
    }
   },
   "outputs": [],
   "source": [
    "# Install Tesseract OCR\n",
    "!apt-get install -y tesseract-ocr\n",
    "!pip install pytesseract opencv-python textblob numpy matplotlib\n",
    "\n"
   ]
  },
  {
   "cell_type": "code",
   "execution_count": null,
   "metadata": {
    "vscode": {
     "languageId": "plaintext"
    }
   },
   "outputs": [],
   "source": [
    "import cv2\n",
    "import pytesseract\n",
    "import numpy as np\n",
    "import matplotlib.pyplot as plt\n",
    "from textblob import TextBlob\n"
   ]
  },
  {
   "cell_type": "code",
   "execution_count": null,
   "metadata": {
    "vscode": {
     "languageId": "plaintext"
    }
   },
   "outputs": [],
   "source": [
    "pip install easyocr\n",
    "pip install torch torchvision torchaudio\n",
    "pip install fuzzywuzzy"
   ]
  },
  {
   "cell_type": "code",
   "execution_count": null,
   "metadata": {
    "vscode": {
     "languageId": "plaintext"
    }
   },
   "outputs": [],
   "source": [
    "import cv2\n",
    "import pytesseract\n",
    "import numpy as np\n",
    "import re\n",
    "from fuzzywuzzy import process\n",
    "from PIL import Image\n",
    "import spacy\n",
    "from google.colab.patches import cv2_imshow\n",
    "\n",
    "# Load a pre-trained medical Named Entity Recognition (NER) model\n",
    "try:\n",
    "    nlp = spacy.load(\"en_core_med7_lg\")  # A medical NER model (you may need to install this separately)\n",
    "except:\n",
    "    nlp = spacy.load(\"en_core_web_sm\")  # Fallback to a general model\n",
    "\n",
    "# Local comprehensive drug list\n",
    "drug_list = [\"Aspirin\", \"Paracetamol\", \"Azithromycin\", \"Ibuprofen\", \"Metformin\", \"Amoxicillin\", \"Oflozest OZ\", \"Azenac-MR\", \"Andial\", \"Zofer\", \"Phenytoin Sodium\"]\n",
    "\n",
    "def preprocess_image(image_path):\n",
    "    image = cv2.imread(image_path, cv2.IMREAD_GRAYSCALE)\n",
    "    \n",
    "    # Increase contrast\n",
    "    image = cv2.convertScaleAbs(image, alpha=2.0, beta=50)\n",
    "    \n",
    "    # Apply Gaussian Blur to reduce noise\n",
    "    blurred = cv2.GaussianBlur(image, (5, 5), 0)\n",
    "    \n",
    "    # Apply OTSU thresholding\n",
    "    _, processed_img = cv2.threshold(blurred, 0, 255, cv2.THRESH_BINARY + cv2.THRESH_OTSU)\n",
    "    \n",
    "    # Morphological operations to remove small noise\n",
    "    kernel = np.ones((2,2), np.uint8)\n",
    "    processed_img = cv2.morphologyEx(processed_img, cv2.MORPH_CLOSE, kernel)\n",
    "    \n",
    "    # Show preprocessed image for debugging\n",
    "    cv2_imshow(processed_img)\n",
    "    \n",
    "    return processed_img\n",
    "\n",
    "def extract_text(image_path):\n",
    "    processed_img = preprocess_image(image_path)\n",
    "    custom_config = r'--oem 1 --psm 4'  # OCR Engine Mode 1 (Neural Network), Page Segmentation Mode 4 (Column of text)\n",
    "    extracted_text = pytesseract.image_to_string(processed_img, config=custom_config)\n",
    "    print(\"Extracted Text:\", extracted_text)  # Debugging step\n",
    "    return extracted_text\n",
    "\n",
    "def identify_drug(extracted_text):\n",
    "    cleaned_text = re.sub(r'[^a-zA-Z0-9\\s]', '', extracted_text)\n",
    "    words = cleaned_text.split()\n",
    "    identified_drugs = []\n",
    "    for word in words:\n",
    "        match, score = process.extractOne(word, drug_list)\n",
    "        print(f\"Word: {word}, Match: {match}, Score: {score}\")  # Debugging step\n",
    "        if score > 75:  # Lower threshold for better recall\n",
    "            identified_drugs.append(match)\n",
    "    \n",
    "    # Use Named Entity Recognition (NER) to refine drug identification\n",
    "    doc = nlp(extracted_text)\n",
    "    ner_drugs = [ent.text for ent in doc.ents if ent.label_ == \"DRUG\"]\n",
    "    \n",
    "    # Filter out non-relevant terms from NER extraction\n",
    "    filtered_ner_drugs = [drug for drug in ner_drugs if process.extractOne(drug, drug_list)[1] > 75]\n",
    "    \n",
    "    # Merge fuzzy-matched drugs with refined NER-detected drugs\n",
    "    final_drugs = list(set(identified_drugs + filtered_ner_drugs))\n",
    "    return final_drugs\n",
    "\n",
    "# Example Usage\n",
    "image_path = \"/content/9.jpg\"\n",
    "extracted_text = extract_text(image_path)\n",
    "identified_drugs = identify_drug(extracted_text)\n",
    "print(\"Extracted Drugs:\", identified_drugs)\n"
   ]
  }
 ],
 "metadata": {
  "language_info": {
   "name": "python"
  }
 },
 "nbformat": 4,
 "nbformat_minor": 2
}
